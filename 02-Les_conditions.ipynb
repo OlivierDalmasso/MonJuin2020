{
 "cells": [
  {
   "cell_type": "markdown",
   "metadata": {
    "slideshow": {
     "slide_type": "-"
    }
   },
   "source": [
    "<h2>#02 PYTHON : Les conditions.</h2>\n",
    "<img src=\"iconePython.png\" width=\"50\" height=\"50\" /> \n",
    "<br/>\n",
    "<br/>\n",
    "<span style=\"color:green\">\n",
    "<strong>COMPETENCES : </strong> <br/>Connaître la syntaxe du codage d'une condition.<br/>Prendre concience de l'importance de l'indentation.\n",
    "</span>\n",
    "<br/>\n",
    "<br/>\n",
    "<h3>l-L'instruction if ... else.</h3> \n",
    "<p>Taper les lignes de code ci-dessous</p>"
   ]
  },
  {
   "cell_type": "code",
   "execution_count": null,
   "metadata": {},
   "outputs": [],
   "source": [
    "a = 4\n",
    "b = 7\n",
    "if a < b:\n",
    "    print(\"Je suis toto.\")\n",
    "else:\n",
    "    print(\"Je suis titi.\")\n",
    "print(\"En revanche, j'aime le Python.\")"
   ]
  },
  {
   "cell_type": "markdown",
   "metadata": {},
   "source": [
    "<p>Modifier la première ligne avec a = 8.<br/>Exécuter et regarder les différences.</p>"
   ]
  },
  {
   "cell_type": "code",
   "execution_count": null,
   "metadata": {},
   "outputs": [],
   "source": [
    "a = 8\n",
    "b = 7\n",
    "if a < b:\n",
    "    print(\"Je suis toto.\")\n",
    "else:\n",
    "    print(\"Je suis titi.\")\n",
    "print(\"En revanche, j'aime le Python.\")"
   ]
  },
  {
   "cell_type": "markdown",
   "metadata": {},
   "source": [
    "> <span style=\"color:#660099\"><strong> --> Q1-NOTER sur votre feuille de route la syntaxe précise de la condition if...else<br/>\n",
    "On fera particulièrement attention au \":\" et à l'indentation des différentes instructions print et aux conséquences induites.\n",
    "</strong>\n",
    "</span>"
   ]
  },
  {
   "cell_type": "markdown",
   "metadata": {},
   "source": [
    "<h3>2-Programme nombre pair.</h3>\n",
    "\n",
    "<h4>L'algorithme.</h4>\n",
    "\n",
    "<p>Demander à l’utilisateur de choisir un nombre entier<br/>\n",
    "Calculer le reste de la division par 2 de ce nombre : nombre%2<br/>\n",
    "Si (reste ==0) {afficher : ce nombre est pair} <br/>Sinon {afficher : ce nombre est impair}<p> "
   ]
  },
  {
   "cell_type": "markdown",
   "metadata": {},
   "source": [
    "<span style=\"color:blue\">\n",
    "<strong>TRAVAIL à FAIRE : </strong> Taper votre programme \"nombre pair\". <br/> Elaborer une IHM sympatique : Vous demanderez le nombre à tester et vous afficherez une phrase de conclusion.\n",
    "</span>"
   ]
  },
  {
   "cell_type": "markdown",
   "metadata": {},
   "source": [
    "<span style=\"color:red\">\n",
    "<strong>APPEL PROF : </strong> Une fois votre programme fonctionnel, appelez pour validation.<br/> Enregistrez votre programme dans le dossier<strong> python_02</strong>.\n",
    "</span>"
   ]
  }
 ],
 "metadata": {
  "celltoolbar": "Diaporama",
  "kernelspec": {
   "display_name": "Python 3",
   "language": "python",
   "name": "python3"
  },
  "language_info": {
   "codemirror_mode": {
    "name": "ipython",
    "version": 3
   },
   "file_extension": ".py",
   "mimetype": "text/x-python",
   "name": "python",
   "nbconvert_exporter": "python",
   "pygments_lexer": "ipython3",
   "version": "3.7.1"
  }
 },
 "nbformat": 4,
 "nbformat_minor": 2
}
