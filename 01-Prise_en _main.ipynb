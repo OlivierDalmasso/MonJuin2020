{
 "cells": [
  {
   "cell_type": "markdown",
   "metadata": {
    "slideshow": {
     "slide_type": "-"
    }
   },
   "source": [
    "<h2>#01 PYTHON : Prise en main et premières instructions. </h2>\n",
    "<img src=\"iconePython.png\" width=\"50\" height=\"50\" /> \n",
    " \n",
    " \n",
    "<br/>\n",
    "<br/>\n",
    "<span style=\"color:green\">\n",
    "<strong>COMPETENCES : </strong> \n",
    "    <br/>Prise en main de l'IDE.\n",
    "    <br/>Programmer les premières lignes de code.\n",
    "    </span>\n",
    "<br/>\n",
    "<br/>\n",
    "<h3>l-Spyder sous Anaconda.</h3>\n",
    "\n",
    "<h4> Mise en place.</h4>\n",
    "\n",
    "<p>La première opération à réaliser est de créer un dossier, nommé par exemple <strong> python_01 </strong> , dans votre espace de travail.</p>\n",
    "\n",
    "<p>Ensuite, ouvrir la distribution<strong> Anaconda </strong> , puis ouvrir l'IDE <strong> Spyder </strong> .</p>\n",
    "<br/>\n",
    "\n",
    "<h4> L'interface.</h4>\n",
    "\n",
    "<p>Vous devriez obtenir une interface telle que celle ci-dessous, on y distingue trois zones.</p>\n",
    "\n",
    " <img src=\"image01.png\" width=\"500\" height=\"300\" />   \n",
    "    \n",
    "    \n",
    " \n",
    "    \n",
    "    \n",
    " <p>La zone <strong> 1 </strong> est celle dans laquelle vous allez taper le code. C'est l'éditeur </p>\n",
    " \n",
    "  <p>La zone <strong> 2 </strong> est celle dans laquelle vous allez obtenir le résultat de l'execution de vos lignes de code. C'est la console.</p>\n",
    "  \n",
    "   <p>La zone <strong> 3 </strong> est une zone que vous utiliserons plus tard, en particulier pour explorer les variables.</p>\n",
    " \n",
    " \n",
    " <h3>2-Premier programme.</h3>\n",
    "\n",
    "<h4> Hello Word !</h4>\n",
    "\n",
    "<p>Traditionnellement la première ligne de code que l'on tape (dans la zone 1) est ce qui se trouve dans l'encadré gris ci-dessous.\n",
    "    \n",
    "    "
   ]
  },
  {
   "cell_type": "code",
   "execution_count": null,
   "metadata": {},
   "outputs": [],
   "source": [
    "print (\"Hello Word !\")"
   ]
  },
  {
   "cell_type": "markdown",
   "metadata": {},
   "source": [
    "<p>Si tout va bien, lorque vous voulez exécuter le programme (RUN, triangle vert), on vous demande d'enregistrer votre programme. Enregistrez-le dans le dossier  <strong> python_01 </strong> , créé précedement. On pourra nommer ce programme <strong>hello1</strong>.\n",
    "</p>\n",
    "<br/>Regardez le résultat dans la console (dans la zone 2) <p>\n",
    "    \n",
    "    \n",
    "<h3>3-Les connaissances de base.</h3>\n",
    "\n",
    "<h4>3.1-Print.</h4>\n",
    "\n",
    "<p>Dans la suite de cette activité on va explorer les premières notions de programmation et comprendre quelques instructions bien utiles...<p>\n",
    " <p>Ouvrir un nouveau fichier et taper les lignes de code suivantes et executer. On pourra nommer ce programme <strong>print1</strong>. <p>   "
   ]
  },
  {
   "cell_type": "code",
   "execution_count": null,
   "metadata": {},
   "outputs": [],
   "source": [
    "a=3\n",
    "b=4\n",
    "c=a+b\n",
    "print(\"c\")\n",
    "print(c)\n",
    "print(\"c =\",c)"
   ]
  },
  {
   "cell_type": "markdown",
   "metadata": {},
   "source": [
    "> <span style=\"color:#660099\"><strong> --> Q1-NOTER sur votre feuille de route la différence entre les différentes lignes de code contenant l'instruction print.\n",
    "</strong>\n",
    "</span>"
   ]
  },
  {
   "cell_type": "markdown",
   "metadata": {},
   "source": [
    "<h4>3.2-Différents types de variables.</h4>\n",
    "<p>Taper les lignes de code suivantes et executer. On pourra nommer ce programme <strong>type </strong>. <p>  "
   ]
  },
  {
   "cell_type": "code",
   "execution_count": null,
   "metadata": {},
   "outputs": [],
   "source": [
    "a=3\n",
    "b= \"coucou\"\n",
    "c=5.4\n",
    "print(type (a))\n",
    "print(type (b))\n",
    "print(type (c))"
   ]
  },
  {
   "cell_type": "markdown",
   "metadata": {},
   "source": [
    "> <span style=\"color:#660099\"><strong> --> Q2-NOTER sur votre feuille de route les trois différents types de variables et leur signification.\n",
    "</strong>\n",
    "</span>"
   ]
  },
  {
   "cell_type": "markdown",
   "metadata": {},
   "source": [
    "<h4>3.3-Dialogue avec l'utilisateur.</h4>\n",
    "<p>Taper les lignes de code suivantes. On pourra nommer ce programme <strong>minutes</strong> ."
   ]
  },
  {
   "cell_type": "code",
   "execution_count": null,
   "metadata": {},
   "outputs": [],
   "source": [
    "#On demande à l'utilisateur de donner une valeur numérique (input)\n",
    "minutes = input(\"Durée en minutes pour venir au Lycée : ...\")\n",
    "\n",
    "#On force la variable \"minutes\" a prendre le type float\n",
    "minutes = float(minutes)\n",
    "\n",
    "#On effectue le calcul \n",
    "secondes = 60*minutes\n",
    "\n",
    "#On affiche la valeur en sortie\n",
    "print(\"\")\n",
    "print(\"Durée de votre trajet en secondes : \",secondes)\n",
    "print(\"\")"
   ]
  },
  {
   "cell_type": "markdown",
   "metadata": {},
   "source": [
    " <h3>4-Programme à rendre.</h3>\n",
    "\n",
    "<span style=\"color:blue\">\n",
    "<strong>TRAVAIL à FAIRE : </strong> Taper votre premier programme. <br/> \n",
    "    On pourra nommer ce programme <strong>MonNom </strong>\n",
    "    Vous demanderez le NOM et le Prénom de l'utilisateur.<br/>\n",
    "    Vous lui demanderez aussi son âge en années.<br/>\n",
    "    Ensuite vous ferez afficher une phrase du type : \"Bonjour, vous vous appelez Prénom NOM et vous avez déjà vécu XX mois.\n",
    "</span>\n"
   ]
  },
  {
   "cell_type": "markdown",
   "metadata": {},
   "source": [
    "<span style=\"color:red\">\n",
    "<strong>APPEL PROF : </strong> Une fois votre programme fonctionnel, appelez pour validation.<br/> Enregistrez votre programme dans le dossier<strong> python_01</strong>.\n",
    "</span>"
   ]
  }
 ],
 "metadata": {
  "celltoolbar": "Diaporama",
  "kernelspec": {
   "display_name": "Python 3",
   "language": "python",
   "name": "python3"
  },
  "language_info": {
   "codemirror_mode": {
    "name": "ipython",
    "version": 3
   },
   "file_extension": ".py",
   "mimetype": "text/x-python",
   "name": "python",
   "nbconvert_exporter": "python",
   "pygments_lexer": "ipython3",
   "version": "3.7.1"
  }
 },
 "nbformat": 4,
 "nbformat_minor": 2
}
